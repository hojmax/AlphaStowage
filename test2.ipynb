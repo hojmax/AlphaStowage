{
 "cells": [
  {
   "cell_type": "code",
   "execution_count": 2,
   "metadata": {},
   "outputs": [],
   "source": [
    "from Train import create_testset\n",
    "import numpy as np\n",
    "import time"
   ]
  },
  {
   "cell_type": "code",
   "execution_count": 6,
   "metadata": {},
   "outputs": [],
   "source": [
    "config = {\n",
    "    \"eval\": {\n",
    "        \"n_lookahead\": 1,\n",
    "        \"testset_size\": 100,\n",
    "    },\n",
    "    \"env\": {\n",
    "        \"width\": 6,\n",
    "        \"height\": 6,\n",
    "        \"n_colors\": 4\n",
    "    },\n",
    "}"
   ]
  },
  {
   "cell_type": "code",
   "execution_count": 7,
   "metadata": {},
   "outputs": [
    {
     "name": "stdout",
     "output_type": "stream",
     "text": [
      "Testset 1 created in 0.39 seconds\n",
      "Average score: -8.07\n",
      "\n",
      "Testset 2 created in 0.81 seconds\n",
      "Average score: -7.55\n",
      "\n",
      "Testset 3 created in 1.80 seconds\n",
      "Average score: -7.43\n",
      "\n",
      "Testset 4 created in 3.95 seconds\n",
      "Average score: -7.35\n",
      "\n",
      "Testset 5 created in 7.92 seconds\n",
      "Average score: -7.26\n",
      "\n",
      "Testset 6 created in 14.59 seconds\n",
      "Average score: -7.24\n",
      "\n",
      "Testset 7 created in 21.82 seconds\n",
      "Average score: -7.22\n",
      "\n",
      "Testset 8 created in 28.14 seconds\n",
      "Average score: -7.20\n",
      "\n",
      "Testset 9 created in 29.44 seconds\n",
      "Average score: -7.19\n",
      "\n"
     ]
    }
   ],
   "source": [
    "for i in range(1, 10):\n",
    "    config[\"eval\"][\"n_lookahead\"] = i\n",
    "    start = time.time()\n",
    "    test_set = create_testset(config)\n",
    "    print(f\"Testset {i} created in {time.time() - start:.2f} seconds\")\n",
    "    avg_score = np.mean([x[1] for x in test_set])\n",
    "    print(f\"Average score: {avg_score:.2f}\")\n",
    "    print()"
   ]
  }
 ],
 "metadata": {
  "kernelspec": {
   "display_name": "Python 3",
   "language": "python",
   "name": "python3"
  },
  "language_info": {
   "codemirror_mode": {
    "name": "ipython",
    "version": 3
   },
   "file_extension": ".py",
   "mimetype": "text/x-python",
   "name": "python",
   "nbconvert_exporter": "python",
   "pygments_lexer": "ipython3",
   "version": "3.11.7"
  }
 },
 "nbformat": 4,
 "nbformat_minor": 2
}
