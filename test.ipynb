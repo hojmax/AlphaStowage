{
 "cells": [
  {
   "cell_type": "code",
   "execution_count": 1,
   "metadata": {},
   "outputs": [
    {
     "name": "stdout",
     "output_type": "stream",
     "text": [
      "pygame 2.5.2 (SDL 2.28.3, Python 3.11.7)\n",
      "Hello from the pygame community. https://www.pygame.org/contribute.html\n"
     ]
    }
   ],
   "source": [
    "from create_supervised_data import MyDataset\n",
    "from NeuralNetwork import NeuralNetwork\n",
    "import torch\n",
    "import wandb"
   ]
  },
  {
   "cell_type": "code",
   "execution_count": 2,
   "metadata": {},
   "outputs": [],
   "source": [
    "dataset = torch.load(\"dataset.pt\")"
   ]
  },
  {
   "cell_type": "code",
   "execution_count": 3,
   "metadata": {},
   "outputs": [
    {
     "name": "stdout",
     "output_type": "stream",
     "text": [
      "(tensor([[[0., 0., 1.],\n",
      "         [1., 0., 1.],\n",
      "         [0., 1., 0.]],\n",
      "\n",
      "        [[1., 0., 0.],\n",
      "         [0., 0., 0.],\n",
      "         [1., 0., 1.]],\n",
      "\n",
      "        [[0., 1., 0.],\n",
      "         [0., 1., 0.],\n",
      "         [0., 0., 0.]]]), tensor([0, 0, 1]), tensor([-3]))\n"
     ]
    }
   ],
   "source": [
    "query = torch.tensor(\n",
    "    [\n",
    "        [[0, 0, 1], [1, 0, 1], [0, 1, 0]],\n",
    "        [[1, 0, 0], [0, 0, 0], [1, 0, 1]],\n",
    "        [[0, 1, 0], [0, 1, 0], [0, 0, 0]],\n",
    "    ],\n",
    "    dtype=torch.float32,\n",
    ")\n",
    "\n",
    "for e in dataset:\n",
    "    # find where e[0] == query\n",
    "    if torch.equal(e[0], query):\n",
    "        print(e)\n",
    "        break"
   ]
  },
  {
   "cell_type": "code",
   "execution_count": 6,
   "metadata": {},
   "outputs": [
    {
     "name": "stdout",
     "output_type": "stream",
     "text": [
      "{'nn': {'blocks': 8, 'value_hidden': 256, 'value_stride': 1, 'hidden_stride': 1, 'policy_stride': 1, 'value_channels': 1, 'hidden_channels': 32, 'policy_channels': 2, 'value_kernel_size': 1, 'hidden_kernel_size': 3, 'policy_kernel_size': 1}, 'env': {'width': 3, 'height': 3, 'n_colors': 3}, 'eval': {'n_lookahead': 1}, 'mcts': {'c_puct': 1, 'temperature': 1, 'search_iterations': 100}, 'train': {'max_data': 4000, 'batch_size': 256, 'n_iterations': 100000000.0, 'l2_weight_reg': 0, 'learning_rate': 0.001, 'test_interval': 200, 'value_scaling': 0.5, 'batches_per_episode': 4, 'learning_rate_decay': 0.99995}}\n",
      "Loaded\n"
     ]
    }
   ],
   "source": [
    "run_path = \"hojmax/bachelor/sjego076\"\n",
    "api = wandb.Api()\n",
    "run = api.run(run_path)\n",
    "file = run.file(\"model.pth\")\n",
    "file.download(replace=True)\n",
    "config = run.config\n",
    "\n",
    "net = NeuralNetwork(config=config)\n",
    "net.load_state_dict(torch.load(\"model.pth\", map_location=\"cpu\"))\n",
    "net.eval()\n",
    "print(\"Loaded\")"
   ]
  },
  {
   "cell_type": "code",
   "execution_count": 10,
   "metadata": {},
   "outputs": [
    {
     "data": {
      "text/plain": [
       "(tensor([[1.5181e-08, 1.1124e-08, 1.0000e+00]], grad_fn=<SoftmaxBackward0>),\n",
       " tensor([[-3.0018]], grad_fn=<AddmmBackward0>))"
      ]
     },
     "execution_count": 10,
     "metadata": {},
     "output_type": "execute_result"
    }
   ],
   "source": [
    "net(query.unsqueeze(0))"
   ]
  }
 ],
 "metadata": {
  "kernelspec": {
   "display_name": "Python 3",
   "language": "python",
   "name": "python3"
  },
  "language_info": {
   "codemirror_mode": {
    "name": "ipython",
    "version": 3
   },
   "file_extension": ".py",
   "mimetype": "text/x-python",
   "name": "python",
   "nbconvert_exporter": "python",
   "pygments_lexer": "ipython3",
   "version": "3.11.7"
  }
 },
 "nbformat": 4,
 "nbformat_minor": 2
}
