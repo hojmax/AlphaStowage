{
 "cells": [
  {
   "cell_type": "code",
   "execution_count": 3,
   "metadata": {},
   "outputs": [],
   "source": [
    "from Train import extend_and_handle_duplicates\n",
    "import torch"
   ]
  },
  {
   "cell_type": "code",
   "execution_count": 19,
   "metadata": {},
   "outputs": [
    {
     "name": "stdout",
     "output_type": "stream",
     "text": [
      "[(tensor([1, 2, 3]), 0.9, 1), (tensor([3, 2, 3]), 0.1123, 2)]\n",
      "[(tensor([1, 2, 3]), 0.9, 1), (tensor([4, 2, 3]), 0.9, 0), (tensor([3, 2, 3]), 0.3, 1)]\n"
     ]
    }
   ],
   "source": [
    "data = [\n",
    "    (torch.tensor([1, 2, 3]), 0.9, 1),\n",
    "    (torch.tensor([3, 2, 3]), 0.1123, 2),\n",
    "]\n",
    "print(data)\n",
    "extend_and_handle_duplicates(data, [(torch.tensor([4, 2, 3]), 0.9, 0), (torch.tensor([3, 2, 3]), 0.3, 1)])\n",
    "print(data)"
   ]
  }
 ],
 "metadata": {
  "kernelspec": {
   "display_name": "Python 3",
   "language": "python",
   "name": "python3"
  },
  "language_info": {
   "codemirror_mode": {
    "name": "ipython",
    "version": 3
   },
   "file_extension": ".py",
   "mimetype": "text/x-python",
   "name": "python",
   "nbconvert_exporter": "python",
   "pygments_lexer": "ipython3",
   "version": "3.11.7"
  }
 },
 "nbformat": 4,
 "nbformat_minor": 2
}
