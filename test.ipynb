{
 "cells": [
  {
   "cell_type": "code",
   "execution_count": 11,
   "metadata": {},
   "outputs": [],
   "source": [
    "from create_supervised_data import MyDataset\n",
    "from NeuralNetwork import NeuralNetwork\n",
    "import torch\n",
    "import wandb"
   ]
  },
  {
   "cell_type": "code",
   "execution_count": 4,
   "metadata": {},
   "outputs": [],
   "source": [
    "dataset = torch.load(\"dataset.pt\")"
   ]
  },
  {
   "cell_type": "code",
   "execution_count": 17,
   "metadata": {},
   "outputs": [
    {
     "name": "stdout",
     "output_type": "stream",
     "text": [
      "(tensor([[[0., 0., 1.],\n",
      "         [1., 0., 1.],\n",
      "         [0., 1., 0.]],\n",
      "\n",
      "        [[1., 0., 0.],\n",
      "         [0., 0., 0.],\n",
      "         [1., 0., 1.]],\n",
      "\n",
      "        [[0., 1., 0.],\n",
      "         [0., 1., 0.],\n",
      "         [0., 0., 0.]]]), tensor([0, 0, 1]), tensor([-3]))\n"
     ]
    }
   ],
   "source": [
    "query = torch.tensor(\n",
    "    [\n",
    "        [[0, 0, 1], [1, 0, 1], [0, 1, 0]],\n",
    "        [[1, 0, 0], [0, 0, 0], [1, 0, 1]],\n",
    "        [[0, 1, 0], [0, 1, 0], [0, 0, 0]],\n",
    "    ],\n",
    "    dtype=torch.float32,\n",
    ")\n",
    "\n",
    "for e in dataset:\n",
    "    # find where e[0] == query\n",
    "    if torch.equal(e[0], query):\n",
    "        print(e)\n",
    "        break"
   ]
  },
  {
   "cell_type": "code",
   "execution_count": 14,
   "metadata": {},
   "outputs": [
    {
     "name": "stdout",
     "output_type": "stream",
     "text": [
      "Loaded\n"
     ]
    }
   ],
   "source": [
    "run_path = \"hojmax/bachelor/lfdk3eju\"\n",
    "api = wandb.Api()\n",
    "run = api.run(run_path)\n",
    "file = run.file(\"model.pth\")\n",
    "file.download(replace=True)\n",
    "config = run.config\n",
    "\n",
    "net = NeuralNetwork(config=config)\n",
    "net.load_state_dict(torch.load(\"model.pt\", map_location=\"cpu\"))\n",
    "net.eval()\n",
    "print(\"Loaded\")"
   ]
  },
  {
   "cell_type": "code",
   "execution_count": 18,
   "metadata": {},
   "outputs": [
    {
     "data": {
      "text/plain": [
       "(tensor([[4.8333e-03, 1.1179e-06, 9.9517e-01]], grad_fn=<SoftmaxBackward0>),\n",
       " tensor([[-3.5389]], grad_fn=<AddmmBackward0>))"
      ]
     },
     "execution_count": 18,
     "metadata": {},
     "output_type": "execute_result"
    }
   ],
   "source": [
    "net(query.unsqueeze(0))"
   ]
  }
 ],
 "metadata": {
  "kernelspec": {
   "display_name": "Python 3",
   "language": "python",
   "name": "python3"
  },
  "language_info": {
   "codemirror_mode": {
    "name": "ipython",
    "version": 3
   },
   "file_extension": ".py",
   "mimetype": "text/x-python",
   "name": "python",
   "nbconvert_exporter": "python",
   "pygments_lexer": "ipython3",
   "version": "3.11.7"
  }
 },
 "nbformat": 4,
 "nbformat_minor": 2
}
